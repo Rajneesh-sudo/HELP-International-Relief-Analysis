{
 "cells": [
  {
   "cell_type": "code",
   "execution_count": 1,
   "id": "3888ac29-0f20-47ac-934e-fcbc03242c15",
   "metadata": {},
   "outputs": [],
   "source": [
    "import pandas as pd\n",
    "import numpy as np\n",
    "import seaborn as sns \n",
    "import matplotlib.pyplot as plt\n"
   ]
  },
  {
   "cell_type": "code",
   "execution_count": 81,
   "id": "1908ddc6-4d03-4dac-b910-ea05676e4c3f",
   "metadata": {},
   "outputs": [],
   "source": [
    "data = pd.read_csv('/Users/rjpathak/Downloads/Country-data.csv')"
   ]
  },
  {
   "cell_type": "code",
   "execution_count": 82,
   "id": "1534a398-c158-4620-a4a0-6bdee2bb09a5",
   "metadata": {},
   "outputs": [
    {
     "data": {
      "text/html": [
       "<div>\n",
       "<style scoped>\n",
       "    .dataframe tbody tr th:only-of-type {\n",
       "        vertical-align: middle;\n",
       "    }\n",
       "\n",
       "    .dataframe tbody tr th {\n",
       "        vertical-align: top;\n",
       "    }\n",
       "\n",
       "    .dataframe thead th {\n",
       "        text-align: right;\n",
       "    }\n",
       "</style>\n",
       "<table border=\"1\" class=\"dataframe\">\n",
       "  <thead>\n",
       "    <tr style=\"text-align: right;\">\n",
       "      <th></th>\n",
       "      <th>country</th>\n",
       "      <th>child_mort</th>\n",
       "      <th>exports</th>\n",
       "      <th>health</th>\n",
       "      <th>imports</th>\n",
       "      <th>income</th>\n",
       "      <th>inflation</th>\n",
       "      <th>life_expec</th>\n",
       "      <th>total_fer</th>\n",
       "      <th>gdpp</th>\n",
       "    </tr>\n",
       "  </thead>\n",
       "  <tbody>\n",
       "    <tr>\n",
       "      <th>0</th>\n",
       "      <td>Afghanistan</td>\n",
       "      <td>90.2</td>\n",
       "      <td>10.0</td>\n",
       "      <td>7.58</td>\n",
       "      <td>44.9</td>\n",
       "      <td>1610</td>\n",
       "      <td>9.44</td>\n",
       "      <td>56.2</td>\n",
       "      <td>5.82</td>\n",
       "      <td>553</td>\n",
       "    </tr>\n",
       "    <tr>\n",
       "      <th>1</th>\n",
       "      <td>Albania</td>\n",
       "      <td>16.6</td>\n",
       "      <td>28.0</td>\n",
       "      <td>6.55</td>\n",
       "      <td>48.6</td>\n",
       "      <td>9930</td>\n",
       "      <td>4.49</td>\n",
       "      <td>76.3</td>\n",
       "      <td>1.65</td>\n",
       "      <td>4090</td>\n",
       "    </tr>\n",
       "    <tr>\n",
       "      <th>2</th>\n",
       "      <td>Algeria</td>\n",
       "      <td>27.3</td>\n",
       "      <td>38.4</td>\n",
       "      <td>4.17</td>\n",
       "      <td>31.4</td>\n",
       "      <td>12900</td>\n",
       "      <td>16.10</td>\n",
       "      <td>76.5</td>\n",
       "      <td>2.89</td>\n",
       "      <td>4460</td>\n",
       "    </tr>\n",
       "    <tr>\n",
       "      <th>3</th>\n",
       "      <td>Angola</td>\n",
       "      <td>119.0</td>\n",
       "      <td>62.3</td>\n",
       "      <td>2.85</td>\n",
       "      <td>42.9</td>\n",
       "      <td>5900</td>\n",
       "      <td>22.40</td>\n",
       "      <td>60.1</td>\n",
       "      <td>6.16</td>\n",
       "      <td>3530</td>\n",
       "    </tr>\n",
       "    <tr>\n",
       "      <th>4</th>\n",
       "      <td>Antigua and Barbuda</td>\n",
       "      <td>10.3</td>\n",
       "      <td>45.5</td>\n",
       "      <td>6.03</td>\n",
       "      <td>58.9</td>\n",
       "      <td>19100</td>\n",
       "      <td>1.44</td>\n",
       "      <td>76.8</td>\n",
       "      <td>2.13</td>\n",
       "      <td>12200</td>\n",
       "    </tr>\n",
       "  </tbody>\n",
       "</table>\n",
       "</div>"
      ],
      "text/plain": [
       "               country  child_mort  exports  health  imports  income  \\\n",
       "0          Afghanistan        90.2     10.0    7.58     44.9    1610   \n",
       "1              Albania        16.6     28.0    6.55     48.6    9930   \n",
       "2              Algeria        27.3     38.4    4.17     31.4   12900   \n",
       "3               Angola       119.0     62.3    2.85     42.9    5900   \n",
       "4  Antigua and Barbuda        10.3     45.5    6.03     58.9   19100   \n",
       "\n",
       "   inflation  life_expec  total_fer   gdpp  \n",
       "0       9.44        56.2       5.82    553  \n",
       "1       4.49        76.3       1.65   4090  \n",
       "2      16.10        76.5       2.89   4460  \n",
       "3      22.40        60.1       6.16   3530  \n",
       "4       1.44        76.8       2.13  12200  "
      ]
     },
     "execution_count": 82,
     "metadata": {},
     "output_type": "execute_result"
    }
   ],
   "source": [
    "data.head()"
   ]
  },
  {
   "cell_type": "code",
   "execution_count": 83,
   "id": "b98f9764-9a95-45b1-afd8-ecb34b35e70d",
   "metadata": {},
   "outputs": [
    {
     "data": {
      "text/plain": [
       "(167, 10)"
      ]
     },
     "execution_count": 83,
     "metadata": {},
     "output_type": "execute_result"
    }
   ],
   "source": [
    "data.shape"
   ]
  },
  {
   "cell_type": "code",
   "execution_count": 84,
   "id": "d937d3fd-24f2-429c-ac83-b93cd8c28cd2",
   "metadata": {},
   "outputs": [
    {
     "name": "stdout",
     "output_type": "stream",
     "text": [
      "<class 'pandas.core.frame.DataFrame'>\n",
      "RangeIndex: 167 entries, 0 to 166\n",
      "Data columns (total 10 columns):\n",
      " #   Column      Non-Null Count  Dtype  \n",
      "---  ------      --------------  -----  \n",
      " 0   country     167 non-null    object \n",
      " 1   child_mort  167 non-null    float64\n",
      " 2   exports     167 non-null    float64\n",
      " 3   health      167 non-null    float64\n",
      " 4   imports     167 non-null    float64\n",
      " 5   income      167 non-null    int64  \n",
      " 6   inflation   167 non-null    float64\n",
      " 7   life_expec  167 non-null    float64\n",
      " 8   total_fer   167 non-null    float64\n",
      " 9   gdpp        167 non-null    int64  \n",
      "dtypes: float64(7), int64(2), object(1)\n",
      "memory usage: 13.2+ KB\n"
     ]
    }
   ],
   "source": [
    "data.info()"
   ]
  },
  {
   "cell_type": "code",
   "execution_count": 85,
   "id": "ed75ae8c-9c91-47e0-9e05-a9a8c1e2ced3",
   "metadata": {},
   "outputs": [
    {
     "data": {
      "text/plain": [
       "<Axes: ylabel='gdpp'>"
      ]
     },
     "execution_count": 85,
     "metadata": {},
     "output_type": "execute_result"
    },
    {
     "data": {
      "image/png": "[encoded data removed]",
      "text/plain": [
       "<Figure size 640x480 with 1 Axes>"
      ]
     },
     "metadata": {},
     "output_type": "display_data"
    }
   ],
   "source": [
    "sns.boxplot(data['gdpp'])"
   ]
  },
  {
   "cell_type": "code",
   "execution_count": 86,
   "id": "20316a5c-ea23-47f1-8522-fcd0029781fe",
   "metadata": {},
   "outputs": [
    {
     "data": {
      "text/plain": [
       "<Axes: ylabel='income'>"
      ]
     },
     "execution_count": 86,
     "metadata": {},
     "output_type": "execute_result"
    },
    {
     "data": {
      "image/png": "[encoded data removed]",
      "text/plain": [
       "<Figure size 640x480 with 1 Axes>"
      ]
     },
     "metadata": {},
     "output_type": "display_data"
    }
   ],
   "source": [
    "sns.boxplot(data['income'])"
   ]
  },
  {
   "cell_type": "code",
   "execution_count": 8,
   "id": "1d636ab1-f8e2-4532-8faa-e2daf144a020",
   "metadata": {},
   "outputs": [
    {
     "data": {
      "text/plain": [
       "<Axes: ylabel='child_mort'>"
      ]
     },
     "execution_count": 8,
     "metadata": {},
     "output_type": "execute_result"
    },
    {
     "data": {
      "image/png": "[encoded data removed]",
      "text/plain": [
       "<Figure size 640x480 with 1 Axes>"
      ]
     },
     "metadata": {},
     "output_type": "display_data"
    }
   ],
   "source": [
    "sns.boxplot(data['child_mort'])"
   ]
  },
  {
   "cell_type": "code",
   "execution_count": 16,
   "id": "fbc10f86-f829-464a-a8b4-901f4be304fc",
   "metadata": {},
   "outputs": [
    {
     "data": {
      "text/html": [
       "<div>\n",
       "<style scoped>\n",
       "    .dataframe tbody tr th:only-of-type {\n",
       "        vertical-align: middle;\n",
       "    }\n",
       "\n",
       "    .dataframe tbody tr th {\n",
       "        vertical-align: top;\n",
       "    }\n",
       "\n",
       "    .dataframe thead th {\n",
       "        text-align: right;\n",
       "    }\n",
       "</style>\n",
       "<table border=\"1\" class=\"dataframe\">\n",
       "  <thead>\n",
       "    <tr style=\"text-align: right;\">\n",
       "      <th></th>\n",
       "      <th>country</th>\n",
       "      <th>child_mort</th>\n",
       "      <th>exports</th>\n",
       "      <th>health</th>\n",
       "      <th>imports</th>\n",
       "      <th>income</th>\n",
       "      <th>inflation</th>\n",
       "      <th>life_expec</th>\n",
       "      <th>total_fer</th>\n",
       "      <th>gdpp</th>\n",
       "    </tr>\n",
       "  </thead>\n",
       "  <tbody>\n",
       "    <tr>\n",
       "      <th>91</th>\n",
       "      <td>Luxembourg</td>\n",
       "      <td>2.8</td>\n",
       "      <td>175.0</td>\n",
       "      <td>7.77</td>\n",
       "      <td>142.0</td>\n",
       "      <td>91700</td>\n",
       "      <td>3.62</td>\n",
       "      <td>81.3</td>\n",
       "      <td>1.63</td>\n",
       "      <td>105000</td>\n",
       "    </tr>\n",
       "    <tr>\n",
       "      <th>123</th>\n",
       "      <td>Qatar</td>\n",
       "      <td>9.0</td>\n",
       "      <td>62.3</td>\n",
       "      <td>1.81</td>\n",
       "      <td>23.8</td>\n",
       "      <td>125000</td>\n",
       "      <td>6.98</td>\n",
       "      <td>79.5</td>\n",
       "      <td>2.07</td>\n",
       "      <td>70300</td>\n",
       "    </tr>\n",
       "  </tbody>\n",
       "</table>\n",
       "</div>"
      ],
      "text/plain": [
       "        country  child_mort  exports  health  imports  income  inflation  \\\n",
       "91   Luxembourg         2.8    175.0    7.77    142.0   91700       3.62   \n",
       "123       Qatar         9.0     62.3    1.81     23.8  125000       6.98   \n",
       "\n",
       "     life_expec  total_fer    gdpp  \n",
       "91         81.3       1.63  105000  \n",
       "123        79.5       2.07   70300  "
      ]
     },
     "execution_count": 16,
     "metadata": {},
     "output_type": "execute_result"
    }
   ],
   "source": [
    "out = data[(data['income'] > 100000) | (data['gdpp'] > 100000)]\n",
    "out"
   ]
  },
  {
   "cell_type": "code",
   "execution_count": 22,
   "id": "5db23064-7c8b-4272-89ae-e988dcfa77c0",
   "metadata": {},
   "outputs": [],
   "source": [
    "data = data[~data['country'].isin(['Luxembourg', 'Qatar'])]"
   ]
  },
  {
   "cell_type": "code",
   "execution_count": 26,
   "id": "55cfd9fd-d5ab-40ee-ac0e-10ac2145e381",
   "metadata": {},
   "outputs": [],
   "source": [
    "def remove_outliers(df, column_name):\n",
    "    Q1 = df[column_name].quantile(0.25)\n",
    "    Q3 = df[column_name].quantile(0.75)\n",
    "    IQR = Q3 - Q1\n",
    "    \n",
    "    lower_bound = Q1 - 1.5 * IQR\n",
    "    upper_bound = Q3 + 1.5 * IQR\n",
    "    \n",
    "    return df[(df[column_name] >= lower_bound) & (df[column_name] <= upper_bound)]"
   ]
  },
  {
   "cell_type": "code",
   "execution_count": 27,
   "id": "f46449a9-227e-44dd-99dc-bc5aaa278736",
   "metadata": {},
   "outputs": [],
   "source": [
    "for column in ['income', 'child_mort', 'gdpp']:\n",
    "    data = remove_outliers(data, column)"
   ]
  },
  {
   "cell_type": "code",
   "execution_count": 28,
   "id": "5997ccd1-5f26-4964-8db7-e06b094c1c72",
   "metadata": {},
   "outputs": [
    {
     "data": {
      "text/plain": [
       "(135, 10)"
      ]
     },
     "execution_count": 28,
     "metadata": {},
     "output_type": "execute_result"
    }
   ],
   "source": [
    "data.shape"
   ]
  },
  {
   "cell_type": "code",
   "execution_count": 34,
   "id": "3ff6a023-76bb-4e3b-b54e-dac137acb974",
   "metadata": {},
   "outputs": [],
   "source": [
    "rfm = data[['income', 'child_mort', 'gdpp']]"
   ]
  },
  {
   "cell_type": "code",
   "execution_count": 36,
   "id": "a93fc2b3-71df-4f87-91ed-f77cca2be79a",
   "metadata": {},
   "outputs": [],
   "source": [
    "from sklearn.preprocessing import StandardScaler"
   ]
  },
  {
   "cell_type": "code",
   "execution_count": 37,
   "id": "3c8c9d2b-efe0-4755-aae1-b6bd2cfd427b",
   "metadata": {},
   "outputs": [],
   "source": [
    "\n",
    "scaler = StandardScaler()\n",
    "rmf_scaled = scaler.fit_transform(rfm)"
   ]
  },
  {
   "cell_type": "code",
   "execution_count": 40,
   "id": "173d439e-df34-4616-adca-240bbe175324",
   "metadata": {},
   "outputs": [],
   "source": [
    "rfm_scaled = pd.DataFrame(rmf_scaled)\n",
    "rfm_scaled.columns = ['income', 'child_mort', 'gdpp']"
   ]
  },
  {
   "cell_type": "code",
   "execution_count": 41,
   "id": "ea8b7580-5972-418e-8f98-df12c45938d9",
   "metadata": {},
   "outputs": [
    {
     "data": {
      "text/html": [
       "<div>\n",
       "<style scoped>\n",
       "    .dataframe tbody tr th:only-of-type {\n",
       "        vertical-align: middle;\n",
       "    }\n",
       "\n",
       "    .dataframe tbody tr th {\n",
       "        vertical-align: top;\n",
       "    }\n",
       "\n",
       "    .dataframe thead th {\n",
       "        text-align: right;\n",
       "    }\n",
       "</style>\n",
       "<table border=\"1\" class=\"dataframe\">\n",
       "  <thead>\n",
       "    <tr style=\"text-align: right;\">\n",
       "      <th></th>\n",
       "      <th>income</th>\n",
       "      <th>child_mort</th>\n",
       "      <th>gdpp</th>\n",
       "    </tr>\n",
       "  </thead>\n",
       "  <tbody>\n",
       "    <tr>\n",
       "      <th>0</th>\n",
       "      <td>-0.965686</td>\n",
       "      <td>1.379575</td>\n",
       "      <td>-0.873006</td>\n",
       "    </tr>\n",
       "    <tr>\n",
       "      <th>1</th>\n",
       "      <td>-0.086690</td>\n",
       "      <td>-0.699833</td>\n",
       "      <td>-0.302950</td>\n",
       "    </tr>\n",
       "    <tr>\n",
       "      <th>2</th>\n",
       "      <td>0.227086</td>\n",
       "      <td>-0.397528</td>\n",
       "      <td>-0.243318</td>\n",
       "    </tr>\n",
       "    <tr>\n",
       "      <th>3</th>\n",
       "      <td>-0.512454</td>\n",
       "      <td>2.193256</td>\n",
       "      <td>-0.393205</td>\n",
       "    </tr>\n",
       "    <tr>\n",
       "      <th>4</th>\n",
       "      <td>0.882106</td>\n",
       "      <td>-0.877825</td>\n",
       "      <td>1.004132</td>\n",
       "    </tr>\n",
       "  </tbody>\n",
       "</table>\n",
       "</div>"
      ],
      "text/plain": [
       "     income  child_mort      gdpp\n",
       "0 -0.965686    1.379575 -0.873006\n",
       "1 -0.086690   -0.699833 -0.302950\n",
       "2  0.227086   -0.397528 -0.243318\n",
       "3 -0.512454    2.193256 -0.393205\n",
       "4  0.882106   -0.877825  1.004132"
      ]
     },
     "execution_count": 41,
     "metadata": {},
     "output_type": "execute_result"
    }
   ],
   "source": [
    "rfm_scaled.head()"
   ]
  },
  {
   "cell_type": "code",
   "execution_count": 44,
   "id": "524617a5-2268-4d06-84e2-2c1ea1e7ac41",
   "metadata": {},
   "outputs": [],
   "source": [
    "from sklearn.neighbors import NearestNeighbors\n",
    "from random import sample\n",
    "from numpy.random import uniform\n",
    "from math import isnan\n",
    " \n",
    "def hopkins(X):\n",
    "    d = X.shape[1]\n",
    "    n = len(X) \n",
    "    m = int(0.1 * n) \n",
    "    nbrs = NearestNeighbors(n_neighbors=1).fit(X.values)\n",
    " \n",
    "    rand_X = sample(range(0, n, 1), m)\n",
    " \n",
    "    ujd = []\n",
    "    wjd = []\n",
    "    for j in range(0, m):\n",
    "        u_dist, _ = nbrs.kneighbors(uniform(np.amin(X,axis=0),np.amax(X,axis=0),d).reshape(1, -1), 2, return_distance=True)\n",
    "        ujd.append(u_dist[0][1])\n",
    "        w_dist, _ = nbrs.kneighbors(X.iloc[rand_X[j]].values.reshape(1, -1), 2, return_distance=True)\n",
    "        wjd.append(w_dist[0][1])\n",
    " \n",
    "    H = sum(ujd) / (sum(ujd) + sum(wjd))\n",
    "    if isnan(H):\n",
    "        print(ujd, wjd)\n",
    "        H = 0\n",
    " \n",
    "    return H"
   ]
  },
  {
   "cell_type": "code",
   "execution_count": 52,
   "id": "9fa8e9a4-cc48-44f6-84e2-522c2de2fd7e",
   "metadata": {},
   "outputs": [
    {
     "data": {
      "text/plain": [
       "np.float64(0.8897730214231993)"
      ]
     },
     "execution_count": 52,
     "metadata": {},
     "output_type": "execute_result"
    }
   ],
   "source": [
    "hopkins(rfm_scaled)"
   ]
  },
  {
   "cell_type": "code",
   "execution_count": 53,
   "id": "797ddd04-ed64-4e64-9d76-6e505b77f065",
   "metadata": {},
   "outputs": [],
   "source": [
    "from sklearn.cluster import KMeans\n",
    "from sklearn.metrics import silhouette_score"
   ]
  },
  {
   "cell_type": "code",
   "execution_count": 55,
   "id": "5f43a535-d59a-46ec-8dd4-97e2395317ac",
   "metadata": {},
   "outputs": [
    {
     "name": "stdout",
     "output_type": "stream",
     "text": [
      "for n_clusters =2, the silhouette_score is 0.493533695849818\n",
      "for n_clusters =3, the silhouette_score is 0.4885386701639559\n",
      "for n_clusters =4, the silhouette_score is 0.4874071305146094\n",
      "for n_clusters =5, the silhouette_score is 0.4852230824342489\n",
      "for n_clusters =6, the silhouette_score is 0.45874263637892465\n",
      "for n_clusters =7, the silhouette_score is 0.4193884789867417\n",
      "for n_clusters =8, the silhouette_score is 0.4305092411528543\n"
     ]
    }
   ],
   "source": [
    "kmeans = KMeans()\n",
    "range_clusters = [2, 3, 4, 5, 6, 7, 8]\n",
    "for num in range_clusters:\n",
    "    kmeans = KMeans(n_clusters = num, max_iter = 50)\n",
    "    kmeans.fit(rfm_scaled)\n",
    "    cluster_labels = kmeans.labels_\n",
    "    avg = silhouette_score(rfm_scaled, cluster_labels)\n",
    "    print('for n_clusters ={0}, the silhouette_score is {1}'.format(num, avg))"
   ]
  },
  {
   "cell_type": "code",
   "execution_count": 56,
   "id": "b3379d64-4e9c-4513-88a4-180f4060e5f7",
   "metadata": {},
   "outputs": [
    {
     "data": {
      "text/plain": [
       "[<matplotlib.lines.Line2D at 0x11e1660c0>]"
      ]
     },
     "execution_count": 56,
     "metadata": {},
     "output_type": "execute_result"
    },
    {
     "data": {
      "image/png": "[encoded data removed]",
      "text/plain": [
       "<Figure size 640x480 with 1 Axes>"
      ]
     },
     "metadata": {},
     "output_type": "display_data"
    }
   ],
   "source": [
    "SSD = []\n",
    "range_clusters = [2, 3, 4, 5, 6, 7, 8]\n",
    "for num in range_clusters:\n",
    "    kmeans = KMeans(n_clusters = num, max_iter = 50)\n",
    "    kmeans.fit(rfm_scaled)\n",
    "    SSD.append(kmeans.inertia_)\n",
    "plt.plot(range_clusters, SSD)"
   ]
  },
  {
   "cell_type": "code",
   "execution_count": 57,
   "id": "61fff233-c76a-4277-98b9-fb15bd0b0747",
   "metadata": {},
   "outputs": [],
   "source": [
    "kmeans = KMeans(n_clusters = 3, max_iter = 50)\n",
    "kmeans.fit(rfm_scaled)\n",
    "cluster_label = kmeans.labels_"
   ]
  },
  {
   "cell_type": "code",
   "execution_count": 62,
   "id": "54a0e49d-19ba-48de-bff3-69d2a97e523d",
   "metadata": {},
   "outputs": [],
   "source": [
    "new_data = data[['country', 'income', 'child_mort', 'gdpp']]"
   ]
  },
  {
   "cell_type": "code",
   "execution_count": 64,
   "id": "19a94864-021f-4db8-8b66-f91ef64f9058",
   "metadata": {},
   "outputs": [
    {
     "name": "stderr",
     "output_type": "stream",
     "text": [
      "/var/folders/1d/f3s56wqj0019h10kqhnxc3xh0000gn/T/ipykernel_15010/67760173.py:1: SettingWithCopyWarning: \n",
      "A value is trying to be set on a copy of a slice from a DataFrame.\n",
      "Try using .loc[row_indexer,col_indexer] = value instead\n",
      "\n",
      "See the caveats in the documentation: https://pandas.pydata.org/pandas-docs/stable/user_guide/indexing.html#returning-a-view-versus-a-copy\n",
      "  new_data['cluster'] = cluster_label\n"
     ]
    }
   ],
   "source": [
    "new_data['cluster'] = cluster_label"
   ]
  },
  {
   "cell_type": "code",
   "execution_count": 69,
   "id": "f4c54da7-e04a-4a0e-9fc3-1c7344116851",
   "metadata": {},
   "outputs": [],
   "source": [
    "new_data.head()\n",
    "new_data = new_data.drop('country', axis = 1)"
   ]
  },
  {
   "cell_type": "code",
   "execution_count": 70,
   "id": "00681272-a1fe-416e-ab8a-825e63b4d8f7",
   "metadata": {},
   "outputs": [
    {
     "name": "stdout",
     "output_type": "stream",
     "text": [
      "               income  child_mort          gdpp\n",
      "cluster                                        \n",
      "0         2353.928571   85.723810   1028.666667\n",
      "1         9564.444444   25.249206   4596.285714\n",
      "2        24996.666667   13.130000  15771.333333\n"
     ]
    }
   ],
   "source": [
    "cluster_summary = new_data.groupby('cluster').mean()\n",
    "print(cluster_summary)\n"
   ]
  },
  {
   "cell_type": "code",
   "execution_count": 73,
   "id": "13d14795-a8c3-4d8b-a64f-5cc11490f058",
   "metadata": {},
   "outputs": [
    {
     "data": {
      "image/png": "[encoded data removed]",
      "text/plain": [
       "<Figure size 1000x600 with 1 Axes>"
      ]
     },
     "metadata": {},
     "output_type": "display_data"
    }
   ],
   "source": [
    "import matplotlib.pyplot as plt\n",
    "import seaborn as sns\n",
    "\n",
    "plt.figure(figsize=(10, 6))\n",
    "sns.scatterplot(data=new_data, x='income', y='child_mort', hue='cluster', palette='viridis')\n",
    "plt.title('KMeans Clusters by Income and Child Mortality')\n",
    "plt.xlabel('Income')\n",
    "plt.ylabel('Child Mortality')\n",
    "plt.legend(title='Cluster')\n",
    "plt.show()\n"
   ]
  },
  {
   "cell_type": "code",
   "execution_count": 74,
   "id": "b3b8f441-1018-4ece-9a21-9a0a45285ae8",
   "metadata": {},
   "outputs": [],
   "source": [
    "new_data['country'] = data[['country']]"
   ]
  },
  {
   "cell_type": "code",
   "execution_count": 75,
   "id": "88e6182a-cec7-47c7-84d8-4f42d69ea694",
   "metadata": {},
   "outputs": [
    {
     "data": {
      "text/html": [
       "<div>\n",
       "<style scoped>\n",
       "    .dataframe tbody tr th:only-of-type {\n",
       "        vertical-align: middle;\n",
       "    }\n",
       "\n",
       "    .dataframe tbody tr th {\n",
       "        vertical-align: top;\n",
       "    }\n",
       "\n",
       "    .dataframe thead th {\n",
       "        text-align: right;\n",
       "    }\n",
       "</style>\n",
       "<table border=\"1\" class=\"dataframe\">\n",
       "  <thead>\n",
       "    <tr style=\"text-align: right;\">\n",
       "      <th></th>\n",
       "      <th>income</th>\n",
       "      <th>child_mort</th>\n",
       "      <th>gdpp</th>\n",
       "      <th>cluster</th>\n",
       "      <th>country</th>\n",
       "    </tr>\n",
       "  </thead>\n",
       "  <tbody>\n",
       "    <tr>\n",
       "      <th>0</th>\n",
       "      <td>1610</td>\n",
       "      <td>90.2</td>\n",
       "      <td>553</td>\n",
       "      <td>0</td>\n",
       "      <td>Afghanistan</td>\n",
       "    </tr>\n",
       "    <tr>\n",
       "      <th>1</th>\n",
       "      <td>9930</td>\n",
       "      <td>16.6</td>\n",
       "      <td>4090</td>\n",
       "      <td>1</td>\n",
       "      <td>Albania</td>\n",
       "    </tr>\n",
       "    <tr>\n",
       "      <th>2</th>\n",
       "      <td>12900</td>\n",
       "      <td>27.3</td>\n",
       "      <td>4460</td>\n",
       "      <td>1</td>\n",
       "      <td>Algeria</td>\n",
       "    </tr>\n",
       "    <tr>\n",
       "      <th>3</th>\n",
       "      <td>5900</td>\n",
       "      <td>119.0</td>\n",
       "      <td>3530</td>\n",
       "      <td>0</td>\n",
       "      <td>Angola</td>\n",
       "    </tr>\n",
       "    <tr>\n",
       "      <th>4</th>\n",
       "      <td>19100</td>\n",
       "      <td>10.3</td>\n",
       "      <td>12200</td>\n",
       "      <td>2</td>\n",
       "      <td>Antigua and Barbuda</td>\n",
       "    </tr>\n",
       "  </tbody>\n",
       "</table>\n",
       "</div>"
      ],
      "text/plain": [
       "   income  child_mort   gdpp  cluster              country\n",
       "0    1610        90.2    553        0          Afghanistan\n",
       "1    9930        16.6   4090        1              Albania\n",
       "2   12900        27.3   4460        1              Algeria\n",
       "3    5900       119.0   3530        0               Angola\n",
       "4   19100        10.3  12200        2  Antigua and Barbuda"
      ]
     },
     "execution_count": 75,
     "metadata": {},
     "output_type": "execute_result"
    }
   ],
   "source": [
    "new_data.head()"
   ]
  },
  {
   "cell_type": "code",
   "execution_count": 76,
   "id": "7228b9bd-b63e-494b-b36d-e592ed074821",
   "metadata": {},
   "outputs": [
    {
     "name": "stdout",
     "output_type": "stream",
     "text": [
      "Countries in cluster 0:\n",
      "['Afghanistan', 'Angola', 'Bangladesh', 'Benin', 'Burkina Faso', 'Burundi', 'Cameroon', 'Comoros', 'Congo, Dem. Rep.', 'Congo, Rep.', \"Cote d'Ivoire\", 'Eritrea', 'Gambia', 'Ghana', 'Guinea', 'Guinea-Bissau', 'India', 'Kenya', 'Kiribati', 'Lao', 'Lesotho', 'Liberia', 'Madagascar', 'Malawi', 'Mali', 'Mauritania', 'Mozambique', 'Myanmar', 'Nepal', 'Niger', 'Nigeria', 'Pakistan', 'Rwanda', 'Senegal', 'Sudan', 'Tajikistan', 'Tanzania', 'Timor-Leste', 'Togo', 'Uganda', 'Yemen', 'Zambia']\n",
      "Countries in cluster 1:\n",
      "['Albania', 'Algeria', 'Armenia', 'Azerbaijan', 'Belarus', 'Belize', 'Bhutan', 'Bolivia', 'Bosnia and Herzegovina', 'Botswana', 'Brazil', 'Bulgaria', 'Cambodia', 'Cape Verde', 'China', 'Colombia', 'Costa Rica', 'Dominican Republic', 'Ecuador', 'Egypt', 'El Salvador', 'Fiji', 'Gabon', 'Georgia', 'Grenada', 'Guatemala', 'Guyana', 'Indonesia', 'Iran', 'Iraq', 'Jamaica', 'Jordan', 'Kyrgyz Republic', 'Lebanon', 'Macedonia, FYR', 'Maldives', 'Mauritius', 'Micronesia, Fed. Sts.', 'Moldova', 'Mongolia', 'Montenegro', 'Morocco', 'Namibia', 'Panama', 'Paraguay', 'Peru', 'Philippines', 'Romania', 'Samoa', 'Serbia', 'Solomon Islands', 'South Africa', 'Sri Lanka', 'St. Vincent and the Grenadines', 'Suriname', 'Thailand', 'Tonga', 'Tunisia', 'Turkmenistan', 'Ukraine', 'Uzbekistan', 'Vanuatu', 'Vietnam']\n",
      "Countries in cluster 2:\n",
      "['Antigua and Barbuda', 'Argentina', 'Bahamas', 'Bahrain', 'Barbados', 'Chile', 'Croatia', 'Czech Republic', 'Equatorial Guinea', 'Estonia', 'Greece', 'Hungary', 'Kazakhstan', 'Latvia', 'Libya', 'Lithuania', 'Malaysia', 'Malta', 'Oman', 'Poland', 'Portugal', 'Russia', 'Saudi Arabia', 'Seychelles', 'Slovak Republic', 'Slovenia', 'South Korea', 'Turkey', 'Uruguay', 'Venezuela']\n"
     ]
    }
   ],
   "source": [
    "for cluster in new_data['cluster'].unique():\n",
    "    print(f'Countries in cluster {cluster}:')\n",
    "    print(new_data[new_data['cluster'] == cluster]['country'].tolist())\n"
   ]
  },
  {
   "cell_type": "code",
   "execution_count": 80,
   "id": "0760f681-2fbc-43df-af2a-e13af823e1fe",
   "metadata": {},
   "outputs": [
    {
     "name": "stdout",
     "output_type": "stream",
     "text": [
      "Top 5 countries:\n",
      "              country  child_mort  gdpp  income  cluster\n",
      "97               Mali       137.0   708    1870        0\n",
      "113           Nigeria       130.0  2330    5150        0\n",
      "112             Niger       123.0   348     814        0\n",
      "3              Angola       119.0  3530    5900        0\n",
      "37   Congo, Dem. Rep.       116.0   334     609        0\n"
     ]
    }
   ],
   "source": [
    "# Sort the entire data by 'child_mort' (descending) and 'gdpp' (ascending)\n",
    "top_5_countries = new_data.sort_values(by=['child_mort', 'gdpp', 'income'], ascending=[False, True, True]).head(5)\n",
    "print(\"Top 5 countries:\")\n",
    "print(top_5_countries[['country', 'child_mort', 'gdpp', 'income', 'cluster']])\n"
   ]
  },
  {
   "cell_type": "code",
   "execution_count": null,
   "id": "027fe225-4fd1-4d02-9d3e-40a497a6822a",
   "metadata": {},
   "outputs": [],
   "source": []
  }
 ],
 "metadata": {
  "kernelspec": {
   "display_name": "Python 3 (ipykernel)",
   "language": "python",
   "name": "python3"
  },
  "language_info": {
   "codemirror_mode": {
    "name": "ipython",
    "version": 3
   },
   "file_extension": ".py",
   "mimetype": "text/x-python",
   "name": "python",
   "nbconvert_exporter": "python",
   "pygments_lexer": "ipython3",
   "version": "3.12.6"
  }
 },
 "nbformat": 4,
 "nbformat_minor": 5
}
